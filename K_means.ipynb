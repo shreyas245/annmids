{
  "nbformat": 4,
  "nbformat_minor": 0,
  "metadata": {
    "colab": {
      "provenance": []
    },
    "kernelspec": {
      "name": "python3",
      "display_name": "Python 3"
    },
    "language_info": {
      "name": "python"
    }
  },
  "cells": [
    {
      "cell_type": "code",
      "source": [],
      "metadata": {
        "id": "w0Gf-yiq7ZDd"
      },
      "execution_count": null,
      "outputs": []
    },
    {
      "cell_type": "code",
      "source": [
        "import numpy as np\n",
        "\n",
        "# Data points\n",
        "points = np.array([[0.1, 0.6],\n",
        "                   [0.15, 0.71],\n",
        "                   [0.08, 0.9],\n",
        "                   [0.16, 0.85],\n",
        "                   [0.2, 0.3],\n",
        "                   [0.25, 0.5],\n",
        "                   [0.24, 0.1],\n",
        "                   [0.3, 0.2]])\n",
        "\n",
        "# Initial centroids\n",
        "m1 = np.array([0.1, 0.6])  # P1\n",
        "m2 = np.array([0.3, 0.2])  # P8\n",
        "\n",
        "# Perform k-means clustering\n",
        "max_iterations = 100\n",
        "for _ in range(max_iterations):\n",
        "    # Step 1: Assign data points to the nearest centroid\n",
        "    distances = np.linalg.norm(points - m1, axis=1)\n",
        "    cluster1_indices = np.where(distances <= np.linalg.norm(points - m2, axis=1))\n",
        "    cluster2_indices = np.where(distances > np.linalg.norm(points - m2, axis=1))\n",
        "\n",
        "    cluster1 = points[cluster1_indices]\n",
        "    cluster2 = points[cluster2_indices]\n",
        "\n",
        "    # Step 2: Update the centroids\n",
        "    new_m1 = np.mean(cluster1, axis=0)\n",
        "    new_m2 = np.mean(cluster2, axis=0)\n",
        "\n",
        "    # Check for convergence\n",
        "    if np.array_equal(m1, new_m1) and np.array_equal(m2, new_m2):\n",
        "        break\n",
        "\n",
        "    m1 = new_m1\n",
        "    m2 = new_m2\n",
        "\n",
        "# Answers to the questions\n",
        "p6_cluster = 1 if np.array_equal(points[5], cluster1[1]) else 2\n",
        "cluster2_population = len(cluster2)\n",
        "\n",
        "# Updated centroid values\n",
        "updated_m1 = m1\n",
        "updated_m2 = m2\n",
        "\n",
        "print(\"1) P6 belongs to Cluster:\", p6_cluster)\n",
        "print(\"2) Population of Cluster around m2:\", cluster2_population)\n",
        "print(\"3) Updated value of m1:\", updated_m1)\n",
        "print(\"   Updated value of m2:\", updated_m2)"
      ],
      "metadata": {
        "id": "EsVijQ5V7ZJZ"
      },
      "execution_count": null,
      "outputs": []
    }
  ]
}