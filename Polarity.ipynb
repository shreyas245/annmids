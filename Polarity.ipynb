{
  "nbformat": 4,
  "nbformat_minor": 0,
  "metadata": {
    "colab": {
      "provenance": []
    },
    "kernelspec": {
      "name": "python3",
      "display_name": "Python 3"
    },
    "language_info": {
      "name": "python"
    }
  },
  "cells": [
    {
      "cell_type": "code",
      "execution_count": null,
      "metadata": {
        "id": "E6AsdTYr7LIj"
      },
      "outputs": [],
      "source": [
        "import pandas as pd\n",
        "from sklearn.feature_extraction.text import CountVectorizer\n",
        "from sklearn.model_selection import train_test_split\n",
        "from sklearn.naive_bayes import MultinomialNB\n",
        "from sklearn.metrics import accuracy_score\n",
        "import numpy as np\n",
        "\n",
        "# Load the Twitter Sentiment Analysis Dataset\n",
        "url = \"https://raw.githubusercontent.com/zfz/twitter_corpus/master/full-corpus.csv\"\n",
        "data = pd.read_csv(url)\n",
        "\n",
        "# Select a subset of 10000 instances for training and testing\n",
        "data = data.sample(n=5113, random_state=42)\n",
        "\n",
        "# Preprocess the data by removing unwanted characters and converting sentiment to binary values\n",
        "data['TweetText'] = data['TweetText'].str.replace('<.*?>', '', regex=True)\n",
        "data['TweetText'] = data['TweetText'].str.replace('[^a-zA-Z0-9\\s]', '', regex=True)\n",
        "data['Sentiment'] = (data['Sentiment'] == 'positive').astype(int)\n",
        "\n",
        "# Split the data into training and testing sets\n",
        "X_train, X_test, y_train, y_test = train_test_split(data['TweetText'], data['Sentiment'], test_size=0.2, random_state=42)\n",
        "\n",
        "# Vectorize the text data using bag-of-words representation\n",
        "vectorizer = CountVectorizer()\n",
        "X_train = vectorizer.fit_transform(X_train)\n",
        "X_test = vectorizer.transform(X_test)\n",
        "\n",
        "# Train a Naive Bayes classifier\n",
        "classifier = MultinomialNB()\n",
        "classifier.fit(X_train, y_train)\n",
        "\n",
        "# Predict sentiment for test data\n",
        "y_pred = classifier.predict(X_test)\n",
        "\n",
        "# Calculate accuracy\n",
        "accuracy = accuracy_score(y_test, y_pred)\n",
        "print(\"Accuracy:\", accuracy)\n",
        "\n",
        "# Output predicted sentiment for last 5 instances of the test data\n",
        "last_5_instances = X_test[-5:]\n",
        "predicted_sentiments = classifier.predict(last_5_instances)\n",
        "print(\"Predicted Sentiments for Last 5 Instances:\")\n",
        "\n",
        "for sentiment in predicted_sentiments:\n",
        "    index = np.where(sentiment)\n",
        "    if sentiment == 1:\n",
        "        print(last_5_instances[index],\"positive\")\n",
        "    else:\n",
        "        print(last_5_instances[index],\"negative\")"
      ]
    }
  ]
}